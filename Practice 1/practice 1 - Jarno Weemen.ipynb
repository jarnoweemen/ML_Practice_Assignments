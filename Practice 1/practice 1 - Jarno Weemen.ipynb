{
 "cells": [
  {
   "cell_type": "markdown",
   "id": "ffdb0847",
   "metadata": {},
   "source": [
    "# Practice 1: Data Science Salaries\n",
    "In this practice assignment I looked at the Salary dataset provided by randomarnab on [kaggle](https://www.kaggle.com/datasets/arnabchaki/data-science-salaries-2023) and predicted the salary without using salary information (salary, salary in USD, salary currency). \n",
    "\n",
    "The following questions will be anwsered in this document:\n",
    "* How to deal with data cleaning on this dataset?\n",
    "* How to deal with Job titles?\n",
    "* How to deal with multiple countries?\n",
    "* How to best apply hyper parameters on this dataset using a decision tree?\n",
    "* What is grid search with cross-validation?\n",
    "* What is feature importance in a decision tree?\n",
    "* What is a random forest regressor?\n",
    "\n",
    "## Made By Jarno Weemen"
   ]
  },
  {
   "cell_type": "code",
   "execution_count": 1,
   "id": "faf20837",
   "metadata": {},
   "outputs": [
    {
     "data": {
      "text/html": [
       "<div>\n",
       "<style scoped>\n",
       "    .dataframe tbody tr th:only-of-type {\n",
       "        vertical-align: middle;\n",
       "    }\n",
       "\n",
       "    .dataframe tbody tr th {\n",
       "        vertical-align: top;\n",
       "    }\n",
       "\n",
       "    .dataframe thead th {\n",
       "        text-align: right;\n",
       "    }\n",
       "</style>\n",
       "<table border=\"1\" class=\"dataframe\">\n",
       "  <thead>\n",
       "    <tr style=\"text-align: right;\">\n",
       "      <th></th>\n",
       "      <th>work_year</th>\n",
       "      <th>experience_level</th>\n",
       "      <th>employment_type</th>\n",
       "      <th>job_title</th>\n",
       "      <th>salary</th>\n",
       "      <th>salary_currency</th>\n",
       "      <th>salary_in_usd</th>\n",
       "      <th>employee_residence</th>\n",
       "      <th>remote_ratio</th>\n",
       "      <th>company_location</th>\n",
       "      <th>company_size</th>\n",
       "    </tr>\n",
       "  </thead>\n",
       "  <tbody>\n",
       "    <tr>\n",
       "      <th>0</th>\n",
       "      <td>2023</td>\n",
       "      <td>SE</td>\n",
       "      <td>FT</td>\n",
       "      <td>Principal Data Scientist</td>\n",
       "      <td>80000</td>\n",
       "      <td>EUR</td>\n",
       "      <td>85847</td>\n",
       "      <td>ES</td>\n",
       "      <td>100</td>\n",
       "      <td>ES</td>\n",
       "      <td>L</td>\n",
       "    </tr>\n",
       "    <tr>\n",
       "      <th>1</th>\n",
       "      <td>2023</td>\n",
       "      <td>MI</td>\n",
       "      <td>CT</td>\n",
       "      <td>ML Engineer</td>\n",
       "      <td>30000</td>\n",
       "      <td>USD</td>\n",
       "      <td>30000</td>\n",
       "      <td>US</td>\n",
       "      <td>100</td>\n",
       "      <td>US</td>\n",
       "      <td>S</td>\n",
       "    </tr>\n",
       "    <tr>\n",
       "      <th>2</th>\n",
       "      <td>2023</td>\n",
       "      <td>MI</td>\n",
       "      <td>CT</td>\n",
       "      <td>ML Engineer</td>\n",
       "      <td>25500</td>\n",
       "      <td>USD</td>\n",
       "      <td>25500</td>\n",
       "      <td>US</td>\n",
       "      <td>100</td>\n",
       "      <td>US</td>\n",
       "      <td>S</td>\n",
       "    </tr>\n",
       "    <tr>\n",
       "      <th>3</th>\n",
       "      <td>2023</td>\n",
       "      <td>SE</td>\n",
       "      <td>FT</td>\n",
       "      <td>Data Scientist</td>\n",
       "      <td>175000</td>\n",
       "      <td>USD</td>\n",
       "      <td>175000</td>\n",
       "      <td>CA</td>\n",
       "      <td>100</td>\n",
       "      <td>CA</td>\n",
       "      <td>M</td>\n",
       "    </tr>\n",
       "    <tr>\n",
       "      <th>4</th>\n",
       "      <td>2023</td>\n",
       "      <td>SE</td>\n",
       "      <td>FT</td>\n",
       "      <td>Data Scientist</td>\n",
       "      <td>120000</td>\n",
       "      <td>USD</td>\n",
       "      <td>120000</td>\n",
       "      <td>CA</td>\n",
       "      <td>100</td>\n",
       "      <td>CA</td>\n",
       "      <td>M</td>\n",
       "    </tr>\n",
       "    <tr>\n",
       "      <th>5</th>\n",
       "      <td>2023</td>\n",
       "      <td>SE</td>\n",
       "      <td>FT</td>\n",
       "      <td>Applied Scientist</td>\n",
       "      <td>222200</td>\n",
       "      <td>USD</td>\n",
       "      <td>222200</td>\n",
       "      <td>US</td>\n",
       "      <td>0</td>\n",
       "      <td>US</td>\n",
       "      <td>L</td>\n",
       "    </tr>\n",
       "    <tr>\n",
       "      <th>6</th>\n",
       "      <td>2023</td>\n",
       "      <td>SE</td>\n",
       "      <td>FT</td>\n",
       "      <td>Applied Scientist</td>\n",
       "      <td>136000</td>\n",
       "      <td>USD</td>\n",
       "      <td>136000</td>\n",
       "      <td>US</td>\n",
       "      <td>0</td>\n",
       "      <td>US</td>\n",
       "      <td>L</td>\n",
       "    </tr>\n",
       "    <tr>\n",
       "      <th>7</th>\n",
       "      <td>2023</td>\n",
       "      <td>SE</td>\n",
       "      <td>FT</td>\n",
       "      <td>Data Scientist</td>\n",
       "      <td>219000</td>\n",
       "      <td>USD</td>\n",
       "      <td>219000</td>\n",
       "      <td>CA</td>\n",
       "      <td>0</td>\n",
       "      <td>CA</td>\n",
       "      <td>M</td>\n",
       "    </tr>\n",
       "    <tr>\n",
       "      <th>8</th>\n",
       "      <td>2023</td>\n",
       "      <td>SE</td>\n",
       "      <td>FT</td>\n",
       "      <td>Data Scientist</td>\n",
       "      <td>141000</td>\n",
       "      <td>USD</td>\n",
       "      <td>141000</td>\n",
       "      <td>CA</td>\n",
       "      <td>0</td>\n",
       "      <td>CA</td>\n",
       "      <td>M</td>\n",
       "    </tr>\n",
       "    <tr>\n",
       "      <th>9</th>\n",
       "      <td>2023</td>\n",
       "      <td>SE</td>\n",
       "      <td>FT</td>\n",
       "      <td>Data Scientist</td>\n",
       "      <td>147100</td>\n",
       "      <td>USD</td>\n",
       "      <td>147100</td>\n",
       "      <td>US</td>\n",
       "      <td>0</td>\n",
       "      <td>US</td>\n",
       "      <td>M</td>\n",
       "    </tr>\n",
       "  </tbody>\n",
       "</table>\n",
       "</div>"
      ],
      "text/plain": [
       "   work_year experience_level employment_type                 job_title  \\\n",
       "0       2023               SE              FT  Principal Data Scientist   \n",
       "1       2023               MI              CT               ML Engineer   \n",
       "2       2023               MI              CT               ML Engineer   \n",
       "3       2023               SE              FT            Data Scientist   \n",
       "4       2023               SE              FT            Data Scientist   \n",
       "5       2023               SE              FT         Applied Scientist   \n",
       "6       2023               SE              FT         Applied Scientist   \n",
       "7       2023               SE              FT            Data Scientist   \n",
       "8       2023               SE              FT            Data Scientist   \n",
       "9       2023               SE              FT            Data Scientist   \n",
       "\n",
       "   salary salary_currency  salary_in_usd employee_residence  remote_ratio  \\\n",
       "0   80000             EUR          85847                 ES           100   \n",
       "1   30000             USD          30000                 US           100   \n",
       "2   25500             USD          25500                 US           100   \n",
       "3  175000             USD         175000                 CA           100   \n",
       "4  120000             USD         120000                 CA           100   \n",
       "5  222200             USD         222200                 US             0   \n",
       "6  136000             USD         136000                 US             0   \n",
       "7  219000             USD         219000                 CA             0   \n",
       "8  141000             USD         141000                 CA             0   \n",
       "9  147100             USD         147100                 US             0   \n",
       "\n",
       "  company_location company_size  \n",
       "0               ES            L  \n",
       "1               US            S  \n",
       "2               US            S  \n",
       "3               CA            M  \n",
       "4               CA            M  \n",
       "5               US            L  \n",
       "6               US            L  \n",
       "7               CA            M  \n",
       "8               CA            M  \n",
       "9               US            M  "
      ]
     },
     "execution_count": 1,
     "metadata": {},
     "output_type": "execute_result"
    }
   ],
   "source": [
    "import pandas as pd\n",
    "from sklearn.preprocessing import LabelBinarizer\n",
    "\n",
    "df_salaries = pd.read_csv(\"Data/ds_salaries.csv\")\n",
    "df_salaries.head(10)"
   ]
  },
  {
   "cell_type": "markdown",
   "id": "e8612536",
   "metadata": {},
   "source": [
    "### Cleaning the dataset\n",
    "Now that the dataset has been imported, the dataset can be cleaned. To do this I first start to look at any missing and inconsistend values to get a more structured dataset. I also looked at the column names, which already look like they follow a convention for naming."
   ]
  },
  {
   "cell_type": "code",
   "execution_count": 2,
   "id": "330e2f1e",
   "metadata": {},
   "outputs": [
    {
     "name": "stdout",
     "output_type": "stream",
     "text": [
      "<class 'pandas.core.frame.DataFrame'>\n",
      "RangeIndex: 3755 entries, 0 to 3754\n",
      "Data columns (total 11 columns):\n",
      " #   Column              Non-Null Count  Dtype \n",
      "---  ------              --------------  ----- \n",
      " 0   work_year           3755 non-null   int64 \n",
      " 1   experience_level    3755 non-null   object\n",
      " 2   employment_type     3755 non-null   object\n",
      " 3   job_title           3755 non-null   object\n",
      " 4   salary              3755 non-null   int64 \n",
      " 5   salary_currency     3755 non-null   object\n",
      " 6   salary_in_usd       3755 non-null   int64 \n",
      " 7   employee_residence  3755 non-null   object\n",
      " 8   remote_ratio        3755 non-null   int64 \n",
      " 9   company_location    3755 non-null   object\n",
      " 10  company_size        3755 non-null   object\n",
      "dtypes: int64(4), object(7)\n",
      "memory usage: 322.8+ KB\n"
     ]
    }
   ],
   "source": [
    "df_salaries.info()"
   ]
  },
  {
   "cell_type": "markdown",
   "id": "d4b848cb",
   "metadata": {},
   "source": [
    "As you can see there are no missing values in any column, which is a good thing and saves time. The only thing this way overlooks is values that are set to zero, which could mean a number of things depending on the column."
   ]
  },
  {
   "cell_type": "code",
   "execution_count": 3,
   "id": "c1829ac4",
   "metadata": {},
   "outputs": [
    {
     "name": "stdout",
     "output_type": "stream",
     "text": [
      "Col:work_year ,unique values:[2023 2022 2020 2021]\n",
      "Col:experience_level ,unique values:['SE' 'MI' 'EN' 'EX']\n",
      "Col:employment_type ,unique values:['FT' 'CT' 'FL' 'PT']\n",
      "Col:job_title ,unique values:['Principal Data Scientist' 'ML Engineer' 'Data Scientist'\n",
      " 'Applied Scientist' 'Data Analyst' 'Data Modeler' 'Research Engineer'\n",
      " 'Analytics Engineer' 'Business Intelligence Engineer'\n",
      " 'Machine Learning Engineer' 'Data Strategist' 'Data Engineer'\n",
      " 'Computer Vision Engineer' 'Data Quality Analyst'\n",
      " 'Compliance Data Analyst' 'Data Architect'\n",
      " 'Applied Machine Learning Engineer' 'AI Developer' 'Research Scientist'\n",
      " 'Data Analytics Manager' 'Business Data Analyst' 'Applied Data Scientist'\n",
      " 'Staff Data Analyst' 'ETL Engineer' 'Data DevOps Engineer' 'Head of Data'\n",
      " 'Data Science Manager' 'Data Manager' 'Machine Learning Researcher'\n",
      " 'Big Data Engineer' 'Data Specialist' 'Lead Data Analyst'\n",
      " 'BI Data Engineer' 'Director of Data Science'\n",
      " 'Machine Learning Scientist' 'MLOps Engineer' 'AI Scientist'\n",
      " 'Autonomous Vehicle Technician' 'Applied Machine Learning Scientist'\n",
      " 'Lead Data Scientist' 'Cloud Database Engineer' 'Financial Data Analyst'\n",
      " 'Data Infrastructure Engineer' 'Software Data Engineer' 'AI Programmer'\n",
      " 'Data Operations Engineer' 'BI Developer' 'Data Science Lead'\n",
      " 'Deep Learning Researcher' 'BI Analyst' 'Data Science Consultant'\n",
      " 'Data Analytics Specialist' 'Machine Learning Infrastructure Engineer'\n",
      " 'BI Data Analyst' 'Head of Data Science' 'Insight Analyst'\n",
      " 'Deep Learning Engineer' 'Machine Learning Software Engineer'\n",
      " 'Big Data Architect' 'Product Data Analyst'\n",
      " 'Computer Vision Software Engineer' 'Azure Data Engineer'\n",
      " 'Marketing Data Engineer' 'Data Analytics Lead' 'Data Lead'\n",
      " 'Data Science Engineer' 'Machine Learning Research Engineer'\n",
      " 'NLP Engineer' 'Manager Data Management' 'Machine Learning Developer'\n",
      " '3D Computer Vision Researcher' 'Principal Machine Learning Engineer'\n",
      " 'Data Analytics Engineer' 'Data Analytics Consultant'\n",
      " 'Data Management Specialist' 'Data Science Tech Lead'\n",
      " 'Data Scientist Lead' 'Cloud Data Engineer' 'Data Operations Analyst'\n",
      " 'Marketing Data Analyst' 'Power BI Developer' 'Product Data Scientist'\n",
      " 'Principal Data Architect' 'Machine Learning Manager'\n",
      " 'Lead Machine Learning Engineer' 'ETL Developer' 'Cloud Data Architect'\n",
      " 'Lead Data Engineer' 'Head of Machine Learning' 'Principal Data Analyst'\n",
      " 'Principal Data Engineer' 'Staff Data Scientist' 'Finance Data Analyst']\n",
      "Col:salary ,unique values:[   80000    30000    25500   175000   120000   222200   136000   219000\n",
      "   141000   147100    90700   130000   100000   213660   130760   170000\n",
      "   150000   110000   275000   174000   230000   143200   225000   156400\n",
      "   200000    90000    72000   253200   342810   184590   162500   105380\n",
      "    64500  1650000   204620   110680   270703   221484   212750   185000\n",
      "   262000   245000   275300   183500   218500   199098   203300   123600\n",
      "   189110   139000   258750   231500   166000   172500   110500   238000\n",
      "   176000   237000   201450   309400   159100   115000    81500   280000\n",
      "   210000   280100   168100   193500   510000    65000   300000   185900\n",
      "   129300   140000    45000    36000   105000    70000   163196   145885\n",
      "   217000   202800   104300   145000   165000   132300   179170    94300\n",
      "   152500   116450   247300   133800   203000   133000   220000    54000\n",
      "   289800   214000   179820   143860   283200   188800   214200   252000\n",
      "   129000   155000   161800   141600   342300   176100    85000   138784\n",
      "    83270    75000   204500   138900   318300   212200    95000   195000\n",
      "   160000  1700000    38000    35000   168400   105200   190000   241000\n",
      "    55000    15000    47500   250000   228000   186000   180000    50000\n",
      "   205000   215000   247500   172200   224000  1400000   128000   329500\n",
      "   269600   203500   152000   239000   122900   191765   134236   112000\n",
      "    84000   135000   105500   293000   148500   240500   123700   152900\n",
      "   117100   173000   113000   260000   184000   149500   127075   219535\n",
      "   146115   199000   162000   221000   153000   187000   179000   109000\n",
      "   142000   198800   125000    86000   106000   280700   150450   250500\n",
      "   159500   130001    71907    93918    51962   257000   147000   222000\n",
      "   133200   156000   304000   161200    84570   240000   183600   289076\n",
      "   202353   157750   104650    68000    60000   181000   154000   146000\n",
      "    64200    56100   208450   170550   171250   113750   153600   100500\n",
      "   182500   121500   203100   114500    92700    61800   258000   167500\n",
      "   106500    57000   286000   207000   223250   178600   353200   249300\n",
      "   297300   198200   151800   317070   170730    20000   108000   134000\n",
      "   124000   124500   148700   125600   120250   183000  1500000   216000\n",
      "   143865   115092   132000   208049   128500   149600   102000   106800\n",
      "   151000     7000    40000   143000    42000   111000   265000   235000\n",
      "    60400   164000    56000    83500    52500   201036   134024    62000\n",
      "    58000   172000   163800   126000   139500   109400   205600   105700\n",
      "   239748   159832   186300   102500   149040   113900   172600   107900\n",
      "   180180   106020   376080   213120   206500   121600   194500   115500\n",
      "   115934    81666   206000   138000    92000    48000    87000   299500\n",
      "   245100   115100    73900   141288    94192   210914   116704   185700\n",
      "   169000   110600   193000   136850   276000   178500   161000    83300\n",
      "   112700   128750   106250   188500   117000   104500   127000    94000\n",
      "   210550   153300   161500   119500   148750   146300   153400   122700\n",
      "   123900   340000   121700   310000   149076    82365    85500    97750\n",
      "   201000   122000   116990    82920   142200   205920   171600    78000\n",
      "   116000    36050    34320    93800    67000  1300000  1000000   104000\n",
      "   152380   121904   128280   106900   192000   170500    60027    44737\n",
      "   131899   104891   124740    65488    72200    64980   179975    86466\n",
      "   168000   167580    87980   202000   148000   269000   158000   197000\n",
      "   290000   172800   300240   200160   370000   137500   323300   184700\n",
      "   153088   183310   144000    66000   126277   126500   272000   259000\n",
      "   101400   288000   215050   198000   114000   209300   182200   227000\n",
      "    52000   226700   133300   124999   800000    63000   253750   169200\n",
      "   213580   163625    12000   375000  1350000   231250   138750   284310\n",
      "   153090   225900   385000    93919   241871   133832   192500   216100\n",
      "   140800   284000   236000   248100   145900   155850   102544   151410\n",
      "   115360  1050000    25000   107000    23000   182750   314100   195800\n",
      "   350000   262500   209450   158677   103200    61200    59000   174500\n",
      "   107250   119000   285800   154600  5000000   124234    74540    79000\n",
      "   141290    74178   107500  1060000     6000  1440000   840000  1250000\n",
      "   182000   234100   223800   172100   232200   167200   291500   196200\n",
      "   150900   167000    96100   196000   126100   187500    24000   165750\n",
      "    89700    55250   175308   100706   229000  4000000   272550    64000\n",
      "   143100   180560   115440  1125000   261500   134500  1100000    94500\n",
      "   127500    51000   248400  4460000   149000   246000    10000  2500000\n",
      "  2800000   249500   149850   122500   102640    66100   122600   159000\n",
      "   255000   166700   194000   129400    89200   178750   197430   134760\n",
      "    99000   105120    75360   171000    13000   213000   227200    61000\n",
      "   243000   178000    96000   137000   189750   140250   191200   179500\n",
      "    26000   118000   177000   131000   193750   116250   208000    45555\n",
      "  6600000   140700    33000   154560   123648   177500   192564   144854\n",
      "   179305   142127   315000   243900   156600    77300    45600   184100\n",
      "   198440    47000   187200   116100   159699   138938    76000   125404\n",
      "   123000    92250    97000   157000   345600   230400   175950   130050\n",
      "   236600    27000   400000     8000   123400    88100   139600    85700\n",
      "    98200    98000   144200  3000000   188700   160395   191475   141525\n",
      "   156868   178800   132100   229998   154545    99750    68400   236900\n",
      "   159200   243225   179775   218000   145300   195400   131300   195700\n",
      "   130500   141300   102100    83000  1800000   633000   179400   193900\n",
      "   222640   182160   297500    93000    73000    40300   136994   101570\n",
      "    97500   212800   142800   500000   130240    83376    65004    84958\n",
      "    66822    81000    46000   204100   136100     7500    77000    28500\n",
      "   119300   146200   124270   185800   137400   148800  7500000    82000\n",
      "    32400   216200   144100   175100   189650   164996    99450   188100\n",
      "   139860   248700   167100   450000   189500   140100   177600   202900\n",
      "   900000  4200000   260500    73400    49500  2400000   206699    99100\n",
      "   221300    74000   249260   185400   128875    93700   136260   109280\n",
      "   150075   110925    22800   112900    90320    62500   105400    43200\n",
      "   215300   158200   209100   165400   132320   208775   147800  6000000\n",
      "   100800   140400    82900    63900   112300   108800   242000   165220\n",
      "   120160   124190   181940   220110   160080   106260   120600    84900\n",
      "   136620    99360   161342   137141   211500   138600   192400    61300\n",
      "    95550   136600   167875   205300   200100    70500   116150    99050\n",
      "   192600   266400   150260    69000   324000   185100   104890    53000\n",
      "    88000    66500   121000    29000    69999    52800   405000   380000\n",
      "  8500000  7000000    38400    82500   700000     8760    51999    41000\n",
      "    13400   103000   270000    45760    44000  2250000    37456 11000000\n",
      "    14000  2200000   188000  2100000    51400    61500   720000    31000\n",
      "    91000  1600000   256000    72500    65720   111775    93150    21600\n",
      "  4900000  1200000    21000  1799997     9272   120500    21844    22000\n",
      "    76760  1672000   420000 30400000    32000   416000    40900  4450000\n",
      "   423000   325000    34000    69600   435000    37000    19000    18000\n",
      "    39600  1335000  1450000   190200   138350   130800   412000]\n",
      "Col:salary_currency ,unique values:['EUR' 'USD' 'INR' 'HKD' 'CHF' 'GBP' 'AUD' 'SGD' 'CAD' 'ILS' 'BRL' 'THB'\n",
      " 'PLN' 'HUF' 'CZK' 'DKK' 'JPY' 'MXN' 'TRY' 'CLP']\n",
      "Col:salary_in_usd ,unique values:[ 85847  30000  25500 ...  28369 412000  94665]\n",
      "Col:employee_residence ,unique values:['ES' 'US' 'CA' 'DE' 'GB' 'NG' 'IN' 'HK' 'PT' 'NL' 'CH' 'CF' 'FR' 'AU'\n",
      " 'FI' 'UA' 'IE' 'IL' 'GH' 'AT' 'CO' 'SG' 'SE' 'SI' 'MX' 'UZ' 'BR' 'TH'\n",
      " 'HR' 'PL' 'KW' 'VN' 'CY' 'AR' 'AM' 'BA' 'KE' 'GR' 'MK' 'LV' 'RO' 'PK'\n",
      " 'IT' 'MA' 'LT' 'BE' 'AS' 'IR' 'HU' 'SK' 'CN' 'CZ' 'CR' 'TR' 'CL' 'PR'\n",
      " 'DK' 'BO' 'PH' 'DO' 'EG' 'ID' 'AE' 'MY' 'JP' 'EE' 'HN' 'TN' 'RU' 'DZ'\n",
      " 'IQ' 'BG' 'JE' 'RS' 'NZ' 'MD' 'LU' 'MT']\n",
      "Col:remote_ratio ,unique values:[100   0  50]\n",
      "Col:company_location ,unique values:['ES' 'US' 'CA' 'DE' 'GB' 'NG' 'IN' 'HK' 'NL' 'CH' 'CF' 'FR' 'FI' 'UA'\n",
      " 'IE' 'IL' 'GH' 'CO' 'SG' 'AU' 'SE' 'SI' 'MX' 'BR' 'PT' 'RU' 'TH' 'HR'\n",
      " 'VN' 'EE' 'AM' 'BA' 'KE' 'GR' 'MK' 'LV' 'RO' 'PK' 'IT' 'MA' 'PL' 'AL'\n",
      " 'AR' 'LT' 'AS' 'CR' 'IR' 'BS' 'HU' 'AT' 'SK' 'CZ' 'TR' 'PR' 'DK' 'BO'\n",
      " 'PH' 'BE' 'ID' 'EG' 'AE' 'LU' 'MY' 'HN' 'JP' 'DZ' 'IQ' 'CN' 'NZ' 'CL'\n",
      " 'MD' 'MT']\n",
      "Col:company_size ,unique values:['L' 'S' 'M']\n"
     ]
    }
   ],
   "source": [
    "for col in df_salaries.columns:\n",
    "    print(\"Col:{} ,unique values:{}\".format(col, df_salaries[col].unique()))"
   ]
  },
  {
   "cell_type": "markdown",
   "id": "56701c2d",
   "metadata": {},
   "source": [
    "The only column that stands out here that has values that are similair is the job_title column. Besides that column remote_ratio has values equal to zero, but that can be explained, because it's the percentage of working remote.\n",
    "\n",
    "The next step is to deal with the job titles and luckily a kaggle coder already has a function provided for dealing with this problem. The way the function works, is by defining a bunch of arrays that contain the job titles that correspond with the array variable name. After that a big if else statement is used to check if the job title that is given is in a certain array and if true, it returns the grouped job title name."
   ]
  },
  {
   "cell_type": "code",
   "execution_count": 4,
   "id": "373437c1",
   "metadata": {},
   "outputs": [],
   "source": [
    "def segment_job_title(job_title):\n",
    "    data_scientist_titles = ['Principal Data Scientist', 'Data Scientist', \n",
    "                             'Applied Scientist', 'Research Scientist', 'Applied Data Scientist', 'Lead Data Scientist', \n",
    "                             'Staff Data Scientist',  'Principal Data Analyst', 'Principal Data Engineer']\n",
    "    machine_learning_titles = ['ML Engineer', 'Machine Learning Engineer', 'Applied Machine Learning Engineer', \n",
    "                               'Machine Learning Researcher', 'Machine Learning Scientist', \n",
    "                               'Autonomous Vehicle Technician', 'Applied Machine Learning Scientist', \n",
    "                               'Principal Machine Learning Engineer', 'Machine Learning Developer', \n",
    "                               'Lead Machine Learning Engineer', 'Machine Learning Manager']\n",
    "    data_analyst_titles = ['Data Analyst', 'Data Quality Analyst', 'Compliance Data Analyst', 'Business Data Analyst', \n",
    "                           'Staff Data Analyst', 'Lead Data Analyst', 'BI Data Analyst', 'Marketing Data Analyst', \n",
    "                           'Finance Data Analyst']\n",
    "    data_engineer_titles = ['Data Modeler', 'Data Engineer', 'ETL Engineer', 'Data DevOps Engineer', 'Big Data Engineer', \n",
    "                            'Data Infrastructure Engineer', 'Software Data Engineer', 'Cloud Database Engineer', \n",
    "                            'Cloud Data Engineer', 'Cloud Data Architect', 'Lead Data Engineer', 'Principal Data Engineer']\n",
    "    bi_analytics_titles = ['Data Analytics Manager', 'Business Intelligence Engineer', 'Analytics Engineer', \n",
    "                           'BI Data Engineer', 'Director of Data Science', 'BI Developer', 'Insight Analyst', \n",
    "                           'Data Analytics Specialist', 'Data Analytics Lead', 'Power BI Developer', 'Cloud Data Architect']\n",
    "    other_titles = ['Data Strategist', 'Computer Vision Engineer', 'AI Developer', 'Head of Data']\n",
    "    \n",
    "    if job_title in data_scientist_titles:\n",
    "        return 'Data Scientist'\n",
    "    elif job_title in machine_learning_titles:\n",
    "        return 'Machine Learning Engineer'\n",
    "    elif job_title in data_analyst_titles:\n",
    "        return 'Data Analyst'\n",
    "    elif job_title in data_engineer_titles:\n",
    "        return 'Data Engineer'\n",
    "    elif job_title in bi_analytics_titles:\n",
    "        return 'Business Intelligence and Analytics'\n",
    "    elif job_title in other_titles:\n",
    "        return 'Other'\n",
    "    else:\n",
    "        return 'Uncategorized'"
   ]
  },
  {
   "cell_type": "code",
   "execution_count": 5,
   "id": "59770916",
   "metadata": {},
   "outputs": [
    {
     "name": "stdout",
     "output_type": "stream",
     "text": [
      "['Data Scientist' 'Machine Learning Engineer' 'Data Analyst'\n",
      " 'Data Engineer' 'Uncategorized' 'Business Intelligence and Analytics'\n",
      " 'Other']\n"
     ]
    }
   ],
   "source": [
    "# Looping over each unique job value and replacing all values with that name, with the output of segment_job_title.\n",
    "for job in df_salaries['job_title'].unique():\n",
    "    df_salaries['job_title'].replace(to_replace=job, value=segment_job_title(job), inplace=True)\n",
    "\n",
    "print(df_salaries['job_title'].unique())"
   ]
  },
  {
   "cell_type": "code",
   "execution_count": 6,
   "id": "e6186cfc",
   "metadata": {},
   "outputs": [],
   "source": [
    "def segment_country(country):\n",
    "    europe = ['ES', 'DE', 'GB', 'PT', 'NL', 'CH', 'CF', 'FR', 'FI', 'UA', 'IE', 'AT', 'SI', 'HR', 'GR', 'MK', 'LV', 'RO', \n",
    "              'IT', 'LT', 'BE', 'HU', 'SK', 'CZ', 'JE', 'BG', 'RS', 'MD', 'LU', 'MT', 'SE', 'PL', 'CY', 'EE', 'RU', 'DK', 'AL']\n",
    "    north_america = ['US', 'CA', 'MX', 'CR', 'PR', 'DO', 'BM', 'HN', 'BS']\n",
    "    africa = ['NG', 'GH', 'KE', 'TN', 'DZ', 'MA', 'EG']\n",
    "    asia = ['IN', 'HK', 'SG', 'UZ', 'TH', 'CN', 'AE', 'MY', 'JP', 'IQ', 'PK', 'IR', 'IL', 'KW', 'VN', 'AM', 'BA', 'TR', \n",
    "            'ID', 'PH']\n",
    "    south_america = ['CO', 'BR', 'AR', 'BO', 'CL']\n",
    "    oceania = ['AU', 'NZ', 'AS']\n",
    "    \n",
    "    if country in europe:\n",
    "        return 'Europe'\n",
    "    elif country in north_america:\n",
    "        return 'North America'\n",
    "    elif country in africa:\n",
    "        return 'Africa'\n",
    "    elif country in asia:\n",
    "        return 'Asia'\n",
    "    elif country in south_america:\n",
    "        return 'South America'\n",
    "    elif country in oceania:\n",
    "        return 'Oceania'\n",
    "    else:\n",
    "        return country"
   ]
  },
  {
   "cell_type": "code",
   "execution_count": 7,
   "id": "59f6e13b",
   "metadata": {},
   "outputs": [
    {
     "name": "stdout",
     "output_type": "stream",
     "text": [
      "['Europe' 'North America' 'Africa' 'Asia' 'Oceania' 'South America']\n"
     ]
    }
   ],
   "source": [
    "# Looping over each unique country value and replacing all values with that name, with the output of segment_country.\n",
    "for country in df_salaries['employee_residence'].unique():\n",
    "    df_salaries['employee_residence'].replace(to_replace=country, value=segment_country(country), inplace=True)\n",
    "\n",
    "print(df_salaries['employee_residence'].unique())"
   ]
  },
  {
   "cell_type": "code",
   "execution_count": 8,
   "id": "2616810b",
   "metadata": {},
   "outputs": [
    {
     "name": "stdout",
     "output_type": "stream",
     "text": [
      "['Europe' 'North America' 'Africa' 'Asia' 'South America' 'Oceania']\n"
     ]
    }
   ],
   "source": [
    "# Looping over each unique country value and replacing all values with that name, with the output of segment_country.\n",
    "for country in df_salaries['company_location'].unique():\n",
    "    df_salaries['company_location'].replace(to_replace=country, value=segment_country(country), inplace=True)\n",
    "\n",
    "print(df_salaries['company_location'].unique())"
   ]
  },
  {
   "cell_type": "markdown",
   "id": "7191f47f",
   "metadata": {},
   "source": [
    "We'll also look at the other codes that aren't that descriptive and replace those values."
   ]
  },
  {
   "cell_type": "code",
   "execution_count": 9,
   "id": "536483ba",
   "metadata": {},
   "outputs": [
    {
     "data": {
      "text/plain": [
       "array(['Senior', 'Mid/Intermediate level', 'Entry level',\n",
       "       'Executive level'], dtype=object)"
      ]
     },
     "execution_count": 9,
     "metadata": {},
     "output_type": "execute_result"
    }
   ],
   "source": [
    "df_salaries['experience_level'].replace({\n",
    "    'SE': 'Senior',\n",
    "    'EN': 'Entry level',\n",
    "    'EX': 'Executive level',\n",
    "    'MI': 'Mid/Intermediate level',\n",
    "}, inplace=True)\n",
    "\n",
    "df_salaries['experience_level'].unique()"
   ]
  },
  {
   "cell_type": "code",
   "execution_count": 10,
   "id": "f2190d95",
   "metadata": {},
   "outputs": [
    {
     "data": {
      "text/plain": [
       "array(['Full-time', 'Contractor', 'Freelancer', 'Part-time'], dtype=object)"
      ]
     },
     "execution_count": 10,
     "metadata": {},
     "output_type": "execute_result"
    }
   ],
   "source": [
    "df_salaries['employment_type'].replace({\n",
    "    'FL': 'Freelancer',\n",
    "    'CT': 'Contractor',\n",
    "    'FT' : 'Full-time',\n",
    "    'PT' : 'Part-time'\n",
    "}, inplace=True)\n",
    "\n",
    "df_salaries['employment_type'].unique()"
   ]
  },
  {
   "cell_type": "code",
   "execution_count": 11,
   "id": "cf950fc5",
   "metadata": {},
   "outputs": [
    {
     "data": {
      "text/plain": [
       "array(['Full-Remote', 'On-Site', 'Half-Remote'], dtype=object)"
      ]
     },
     "execution_count": 11,
     "metadata": {},
     "output_type": "execute_result"
    }
   ],
   "source": [
    "df_salaries['remote_ratio'].replace({\n",
    "    0: 'On-Site',\n",
    "    50: 'Half-Remote',\n",
    "    100 : 'Full-Remote',\n",
    "}, inplace=True)\n",
    "\n",
    "df_salaries['remote_ratio'].unique()"
   ]
  },
  {
   "cell_type": "markdown",
   "id": "a7ec796c",
   "metadata": {},
   "source": [
    "Now that this is fixed, the cleaning part of this dataset is done and the next part will be analysing the data by looking at features we can best use to predict the salary."
   ]
  },
  {
   "cell_type": "markdown",
   "id": "4894d350",
   "metadata": {},
   "source": [
    "### Analysing the dataset\n",
    "We want to predict the salary of a person based on columns other than salary like features (salary in USD and salary currency), so lets look at which columns would be valuable for that. "
   ]
  },
  {
   "cell_type": "code",
   "execution_count": 12,
   "id": "2baf7f81",
   "metadata": {},
   "outputs": [
    {
     "data": {
      "text/plain": [
       "array(['Senior'], dtype='<U22')"
      ]
     },
     "execution_count": 12,
     "metadata": {},
     "output_type": "execute_result"
    }
   ],
   "source": [
    "experience_level_lb = LabelBinarizer()\n",
    "experience_level_enc = experience_level_lb.fit_transform(df_salaries['experience_level'].values)\n",
    "experience_level_lb.inverse_transform(experience_level_enc[[0]])"
   ]
  },
  {
   "cell_type": "code",
   "execution_count": null,
   "id": "5ec9adf4",
   "metadata": {},
   "outputs": [],
   "source": []
  }
 ],
 "metadata": {
  "kernelspec": {
   "display_name": "Python 3 (ipykernel)",
   "language": "python",
   "name": "python3"
  },
  "language_info": {
   "codemirror_mode": {
    "name": "ipython",
    "version": 3
   },
   "file_extension": ".py",
   "mimetype": "text/x-python",
   "name": "python",
   "nbconvert_exporter": "python",
   "pygments_lexer": "ipython3",
   "version": "3.9.13"
  }
 },
 "nbformat": 4,
 "nbformat_minor": 5
}
