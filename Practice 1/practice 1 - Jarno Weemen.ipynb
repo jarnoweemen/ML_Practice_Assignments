{
 "cells": [
  {
   "cell_type": "markdown",
   "id": "ffdb0847",
   "metadata": {},
   "source": [
    "# Practice 1: Data Science Salaries\n",
    "In this practice assignment I looked at the Salary dataset provided by randomarnab on [kaggle](https://www.kaggle.com/datasets/arnabchaki/data-science-salaries-2023) and predicted the salary . \n",
    "\n",
    "The following\n",
    "\n",
    "## Made By Jarno Weemen"
   ]
  }
 ],
 "metadata": {
  "kernelspec": {
   "display_name": "Python 3 (ipykernel)",
   "language": "python",
   "name": "python3"
  },
  "language_info": {
   "codemirror_mode": {
    "name": "ipython",
    "version": 3
   },
   "file_extension": ".py",
   "mimetype": "text/x-python",
   "name": "python",
   "nbconvert_exporter": "python",
   "pygments_lexer": "ipython3",
   "version": "3.9.13"
  }
 },
 "nbformat": 4,
 "nbformat_minor": 5
}
